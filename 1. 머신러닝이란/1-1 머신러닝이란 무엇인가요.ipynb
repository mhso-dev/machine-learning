{
 "cells": [
  {
   "cell_type": "markdown",
   "metadata": {},
   "source": [
    "# 원시적인 ~머신러닝~...?\n",
    "\n",
    "본격적으로 머신러닝을 하기 전, 우리가 프로그래밍을 하며 자주 사용하는 조건문(condition expression)에 대해 회고해 봅시다. 다음과 같이 스팸을 판단하는 함수가 있다고 합시다."
   ]
  },
  {
   "cell_type": "code",
   "execution_count": 1,
   "metadata": {},
   "outputs": [],
   "source": [
    "def check_spam(text):\n",
    "    if \"광고\" in text:\n",
    "        return True\n",
    "    elif \"세일\" in text:\n",
    "        return True\n",
    "    elif \"특가\" in text:\n",
    "        return True\n",
    "    else:\n",
    "        return False"
   ]
  },
  {
   "cell_type": "code",
   "execution_count": 7,
   "metadata": {},
   "outputs": [
    {
     "name": "stdout",
     "output_type": "stream",
     "text": [
      "'오늘만 특가 세일' => True\n",
      "'(광고) 타이어! 신발보다 싸다' => True\n",
      "'금일 일정 입니다. 확인 후 회신 부탁 드립니다.' => False\n"
     ]
    }
   ],
   "source": [
    "test_text1 = \"오늘만 특가 세일\"\n",
    "test_text2 = \"(광고) 타이어! 신발보다 싸다\"\n",
    "test_text3 = \"금일 일정 입니다. 확인 후 회신 부탁 드립니다.\"\n",
    "\n",
    "print(\"'{}' => {}\".format(test_text1, check_spam(test_text1)))\n",
    "print(\"'{}' => {}\".format(test_text2, check_spam(test_text2)))\n",
    "print(\"'{}' => {}\".format(test_text3, check_spam(test_text3)))"
   ]
  },
  {
   "cell_type": "markdown",
   "metadata": {},
   "source": [
    "## 잘 작동하나?\n",
    "일단 check_spam 함수는 우리가 원하는대로 스팸 메일을 잘 판단해 주고 있네요! 하지만 다음과 같은 문장이 입력되었다고 생각해 봅시다."
   ]
  },
  {
   "cell_type": "code",
   "execution_count": 8,
   "metadata": {},
   "outputs": [
    {
     "name": "stdout",
     "output_type": "stream",
     "text": [
      "True\n"
     ]
    }
   ],
   "source": [
    "new_spam_text = \"컴퓨터 부품을 오늘까지만 할인해 드립니다\"\n",
    "print(check_spam(new_spam_text))"
   ]
  },
  {
   "cell_type": "markdown",
   "metadata": {},
   "source": [
    "새로운 광고 문구를 check_spam에 넣어 보았더니 <b>스팸이 아니라고 판단</b>하고 있습니다. 그렇다면 <i>'컴퓨터 부품을 오늘까지만 할인해 드립니다.'</i> 라는 문장을 스팸으로 분류 하기 위해 check_spam을 수정해야 할 것 같습니다."
   ]
  },
  {
   "cell_type": "code",
   "execution_count": 9,
   "metadata": {},
   "outputs": [],
   "source": [
    "def check_spam(text):\n",
    "    if \"광고\" in text:\n",
    "        return True\n",
    "    elif \"세일\" in text:\n",
    "        return True\n",
    "    elif \"특가\" in text:\n",
    "        return True\n",
    "    elif \"할인\" in text: # 추가된 스팸 상황\n",
    "        return True\n",
    "    else:\n",
    "        return False"
   ]
  },
  {
   "cell_type": "code",
   "execution_count": 10,
   "metadata": {},
   "outputs": [
    {
     "name": "stdout",
     "output_type": "stream",
     "text": [
      "True\n"
     ]
    }
   ],
   "source": [
    "print(check_spam(new_spam_text))"
   ]
  },
  {
   "cell_type": "markdown",
   "metadata": {},
   "source": [
    "## 잘 작동되는 걸까...?\n",
    "\n",
    "다행히도 잘 작동하는 것이 보이네요. 하지만 문제가 있습니다. 새로운 스팸 문장이 생길 때마다 check_spam 함수를 수정해야 한다는 것이죠. 만약 수백 가지 단어에 대해 스팸 필터링을 하기 위해 **프로그래머가 직접 모든 조건문을 추가해야 합니다.**\n",
    "\n",
    "문제는 이뿐만이 아니죠, 다음과 같은 문장은 스팸이 아니지만, 스팸으로 분류합니다."
   ]
  },
  {
   "cell_type": "code",
   "execution_count": 11,
   "metadata": {},
   "outputs": [
    {
     "name": "stdout",
     "output_type": "stream",
     "text": [
      "True\n"
     ]
    }
   ],
   "source": [
    "i_am_not_spam = \"금일 광고대행사와 미팅이 있습니다. 16:00에 회의를 시작합니다.\"\n",
    "print(check_spam(i_am_not_spam))"
   ]
  },
  {
   "cell_type": "markdown",
   "metadata": {},
   "source": [
    "## 골치가 아픈 프로그래머\n",
    "\n",
    "중요한 회의 메일을 스팸으로 분류를 해 버립니다. 프로그래머는 이때부터 머리가 아파오기 시작합니다. 다음과 같은 생각을 하겠죠\n",
    "\n",
    "1. 광고, 미팅이 같이 한 문장에 있으면 스팸이 아니다.\n",
    "2. 회의라는 단어가 포함되면 스팸이 아니다.\n",
    "3. 시작이라는 단어가 있으면 스팸이 아닌가..?\n",
    "4. 숫자가 있으면 스팸이 아니야?\n",
    "5. 어? 날짜가 들어간 광고도 있는데?\n",
    "6. ~dktlqkf~\n",
    "\n",
    "... 기타 등등\n",
    "\n",
    "#### ~이정도면 스팸 필터 휴먼러닝인데?~\n",
    "\n",
    "<img src='./images/ryan.gif' width=\"100px\" height=\"100px\"/>\n",
    "불쌍한 우리의 프로그래머를 구해줍시다"
   ]
  },
  {
   "cell_type": "markdown",
   "metadata": {},
   "source": [
    "# 머신러닝으로 구해줄게\n",
    "\n",
    "~스팸 필터링 휴먼러닝~ 말고 **스팸 필터링 머신러닝**합시다. 즉 사람이 직접 스팸에 대한 필터링을 추가해 주는 것이 아니고,\n",
    "#### 컴퓨터가 직접 스팸에 대한 필터링을 학습 하는 쪽으로 이야기 해보자는 것입니다\n",
    "\n",
    "아래 처럼 컴퓨터에게 스팸 메일들이 어떠한 메일인지를 알려줄 수 있습니다.\n",
    "\n",
    "* \"오늘만 특가 세일\"은 스팸 문장이야\n",
    "* \"(광고) 타이어! 신발보다 싸다\"는 스팸 문장이야\n",
    "* \"싸다싸~ 오늘의 특별 할인 가격\"은 스팸 문장이야\n",
    "* \"(광고)컴퓨터 부품을 오늘까지만 할인해 드립니다!\"는 스팸 문장이야\n",
    "\n",
    "스팸이 아닌 경우도 같이 말해줘 볼까요?\n",
    "* \"금일 광고주 회의는 16:00 입니다.\"는 스팸 문장이 아니야\n",
    "* \"내일 광고대행사 미팅은 13:00 입니다.\"는 스팸 문장이 아니야\n",
    "\n",
    "위와 같은 문장을 **스팸 메일**로 **분류(Classification)** 하도록 컴퓨터(기계 - **Machine**)에게 학습( **Learning** )시키는 것을 머신러닝 훈련 이라고 합니다.\n",
    "\n",
    "위 문장들을 학습한 우리의 머신러닝 **모델**은, 각종 스팸 메일을 조건문에 의해 필터링 하지 않고, 앞으로 우리가 배워나갈 알고리즘에 의해 스팸인지, 스팸이 아닌지를 학습하고 예측할 수 있게 됩니다.\n",
    "\n",
    "정리하자면, 머신러닝이란 일련의 데이터**들**( 많으면 많을 수록 좋다! )을 컴퓨터에게 학습 시켜주면 컴퓨터(기계)는 학습된 내용들을 토대로 위의 예처럼 스팸 메일을 분류 하거나, 암인지 아닌지를 분류 할 수도 있고, 집 값을 예측하기도 하며, 연관성이 있어 보이는 데이터를 스스로 모아내기도 할 수 있습니다."
   ]
  },
  {
   "cell_type": "markdown",
   "metadata": {},
   "source": [
    "# 그럼 지금 부터는 무엇을 해야 할까요?\n",
    "우리는 이제부터 머신러닝 알고리즘을 배우게 됩니다! 데이터의 성질과 모양들에 따라서, 기계로 하여금 어떠한 데이터를 학습하게 할 지에 따라서 등 여러가지 상황에 대비해 기계가 학습해야 하는 알고리즘들을 우리가 알아야 합니다!"
   ]
  }
 ],
 "metadata": {
  "kernelspec": {
   "display_name": "Python 3",
   "language": "python",
   "name": "python3"
  },
  "language_info": {
   "codemirror_mode": {
    "name": "ipython",
    "version": 3
   },
   "file_extension": ".py",
   "mimetype": "text/x-python",
   "name": "python",
   "nbconvert_exporter": "python",
   "pygments_lexer": "ipython3",
   "version": "3.6.10"
  }
 },
 "nbformat": 4,
 "nbformat_minor": 4
}
